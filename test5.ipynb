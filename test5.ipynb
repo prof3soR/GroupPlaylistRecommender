{
 "cells": [
  {
   "cell_type": "code",
   "execution_count": 1,
   "metadata": {},
   "outputs": [],
   "source": [
    "import spotipy\n",
    "from spotipy.oauth2 import SpotifyClientCredentials\n",
    "import pandas as pd\n",
    "import numpy as np\n",
    "from sklearn.metrics.pairwise import cosine_similarity"
   ]
  },
  {
   "cell_type": "code",
   "execution_count": 2,
   "metadata": {},
   "outputs": [
    {
     "name": "stdout",
     "output_type": "stream",
     "text": [
      "<spotipy.client.Spotify object at 0x00000286AF971690>\n"
     ]
    }
   ],
   "source": [
    "CLIENT_ID = \"0672c46c9efb4ccfaaa7133ef0476716\"\n",
    "CLIENT_SECRET = \"8102d349542f4dfeacf7c8358b0643f3\"\n",
    "credentials = SpotifyClientCredentials(client_id=CLIENT_ID, client_secret=CLIENT_SECRET)\n",
    "sp = spotipy.Spotify(auth_manager=credentials)\n",
    "print(sp)"
   ]
  },
  {
   "cell_type": "code",
   "execution_count": 3,
   "metadata": {},
   "outputs": [],
   "source": [
    "def get_playlist_tracks(sp, playlist_id):\n",
    "    tracks = sp.playlist_tracks(playlist_id, fields=\"items.track.id,total\")\n",
    "    track_ids = [item[\"track\"][\"id\"] for item in tracks[\"items\"]]\n",
    "    return track_ids\n",
    "\n",
    "\n",
    "def get_audio_features(sp, track_ids):\n",
    "    audio_features = sp.audio_features(track_ids)\n",
    "    return audio_features\n",
    "\n",
    "\n",
    "def audio_features_to_df(audio_features):\n",
    "    # Define the relevant numerical features to include in the dataframe\n",
    "    relevant_features = [\n",
    "        \"danceability\",\n",
    "        \"energy\",\n",
    "        \"key\",\n",
    "        \"loudness\",\n",
    "        \"mode\",\n",
    "        \"speechiness\",\n",
    "        \"acousticness\",\n",
    "        \"instrumentalness\",\n",
    "        \"liveness\",\n",
    "        \"valence\",\n",
    "        \"tempo\",\n",
    "        \"duration_ms\",\n",
    "    ]\n",
    "\n",
    "    # Convert the list of dictionaries to a dataframe\n",
    "    df = pd.DataFrame(audio_features)\n",
    "    df = df[relevant_features]\n",
    "\n",
    "    return df\n",
    "\n",
    "\n",
    "def calculate_similarity(playlist_audio_features):\n",
    "    playlist_dfs = []\n",
    "    for playlist_features in playlist_audio_features:\n",
    "        playlist_dfs.append(audio_features_to_df(playlist_features))\n",
    "\n",
    "    combined_df = pd.concat(playlist_dfs)\n",
    "\n",
    "    similarity_matrix = cosine_similarity(combined_df)\n",
    "    overall_similarity = np.mean(similarity_matrix)\n",
    "\n",
    "    # Calculate the mean similarity for each feature\n",
    "    feature_mean_similarity = np.mean(similarity_matrix, axis=0)\n",
    "\n",
    "    return overall_similarity, feature_mean_similarity"
   ]
  },
  {
   "cell_type": "code",
   "execution_count": 4,
   "metadata": {},
   "outputs": [
    {
     "name": "stdout",
     "output_type": "stream",
     "text": [
      "The overall similarity between the playlists is: 0.9999999607151101\n",
      "Mean similarity for feature 'danceability': 0.9999999759289032\n",
      "Mean similarity for feature 'energy': 0.9999999658978739\n",
      "Mean similarity for feature 'key': 0.9999999802590567\n",
      "Mean similarity for feature 'loudness': 0.9999999724248905\n",
      "Mean similarity for feature 'mode': 0.9999999672973872\n",
      "Mean similarity for feature 'speechiness': 0.9999999753601277\n",
      "Mean similarity for feature 'acousticness': 0.9999999801501638\n",
      "Mean similarity for feature 'instrumentalness': 0.9999999660185404\n",
      "Mean similarity for feature 'liveness': 0.9999999798344735\n",
      "Mean similarity for feature 'valence': 0.999999976088365\n",
      "Mean similarity for feature 'tempo': 0.999999972431342\n",
      "Mean similarity for feature 'duration_ms': 0.9999999784319331\n"
     ]
    }
   ],
   "source": [
    "playlist_ids = [\n",
    "    \"7ywZVoADC6voXoQH3dmwev\",\n",
    "    \"4hbN2UXfG3ToOw3IWoGWLW\",\n",
    "    \"58lFQMNXNmgnmXRH3u7xS8\",\n",
    "    \"3v7NNKF03kDnjVgZElbzD5\",\n",
    "    \"3urbJyAzlYtxPD1qYD12Zf\",\n",
    "    \"10Vz2pd5IEGGIGFldUQXPS\",\n",
    "    \"5k5W4hNyxHGcol9Rj61s5b\",\n",
    "    \"3cu63OCX6DCKNrDjwpNK8U\",\n",
    "    \"7LsTkj73rKbgHbGpwHLR0R\",\n",
    "    \"2Q02CP199hpLvNr2VOF8nF\",\n",
    "    \"3VEjp8e4rlHwPmeIlrP62Q\",\n",
    "]\n",
    "\n",
    "playlist_audio_features = []\n",
    "for playlist_id in playlist_ids:\n",
    "    track_ids = get_playlist_tracks(sp, playlist_id)\n",
    "    playlist_audio_features.append(get_audio_features(sp, track_ids))\n",
    "\n",
    "overall_similarity, feature_mean_similarity = calculate_similarity(\n",
    "    playlist_audio_features\n",
    ")\n",
    "print(f\"The overall similarity between the playlists is: {overall_similarity}\")\n",
    "\n",
    "# Print the mean similarity for each song feature\n",
    "feature_names = [\n",
    "    \"danceability\",\n",
    "    \"energy\",\n",
    "    \"key\",\n",
    "    \"loudness\",\n",
    "    \"mode\",\n",
    "    \"speechiness\",\n",
    "    \"acousticness\",\n",
    "    \"instrumentalness\",\n",
    "    \"liveness\",\n",
    "    \"valence\",\n",
    "    \"tempo\",\n",
    "    \"duration_ms\",\n",
    "]\n",
    "for feature, mean_similarity in zip(feature_names, feature_mean_similarity):\n",
    "    print(f\"Mean similarity for feature '{feature}': {mean_similarity}\")"
   ]
  }
 ],
 "metadata": {
  "kernelspec": {
   "display_name": "Python 3",
   "language": "python",
   "name": "python3"
  },
  "language_info": {
   "codemirror_mode": {
    "name": "ipython",
    "version": 3
   },
   "file_extension": ".py",
   "mimetype": "text/x-python",
   "name": "python",
   "nbconvert_exporter": "python",
   "pygments_lexer": "ipython3",
   "version": "3.11.3"
  },
  "orig_nbformat": 4
 },
 "nbformat": 4,
 "nbformat_minor": 2
}
